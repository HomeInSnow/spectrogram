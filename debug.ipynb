{
 "cells": [
  {
   "cell_type": "code",
   "execution_count": null,
   "metadata": {},
   "outputs": [],
   "source": [
    "%matplotlib notebook\n",
    "import sys\n",
    "import numpy as np\n",
    "import matplotlib.pyplot as plt\n",
    "sys.path\n",
    "sys.path.append('/home/gaspar/git/realtime_spectrogram')"
   ]
  },
  {
   "cell_type": "code",
   "execution_count": null,
   "metadata": {},
   "outputs": [],
   "source": [
    "from fft_reader import FFTReader"
   ]
  },
  {
   "cell_type": "code",
   "execution_count": null,
   "metadata": {},
   "outputs": [],
   "source": [
    "f = FFTReader(packet_size=256)\n",
    "f.init_devices()\n",
    "ffts = f.get_fft()"
   ]
  },
  {
   "cell_type": "code",
   "execution_count": null,
   "metadata": {},
   "outputs": [],
   "source": [
    "plt.figure()\n",
    "plt.plot(np.log10(ffts[38])*10)"
   ]
  },
  {
   "cell_type": "code",
   "execution_count": null,
   "metadata": {},
   "outputs": [],
   "source": [
    "np.log10(2**-39)*10"
   ]
  },
  {
   "cell_type": "code",
   "execution_count": null,
   "metadata": {},
   "outputs": [],
   "source": [
    "logg = np.log10(ffts)*10\n",
    "m = np.nanmax(logg.T[10:], axis=0)\n",
    "plt.figure()\n",
    "plt.plot(m)\n",
    "plt.grid()\n",
    "plt.show()"
   ]
  },
  {
   "cell_type": "code",
   "execution_count": null,
   "metadata": {
    "scrolled": false
   },
   "outputs": [],
   "source": [
    "def imshow_rescale(im, rescale=True):\n",
    "    def show_plot():\n",
    "        import matplotlib.pyplot as plt\n",
    "        plt.tight_layout()\n",
    "        plt.grid()\n",
    "        if plt.gca().get_legend_handles_labels() != ([], []):\n",
    "            plt.legend()\n",
    "        plt.show()\n",
    "    import matplotlib.pyplot as plt\n",
    "    im = np.array(im)\n",
    "    if rescale:\n",
    "        from skimage.exposure import exposure\n",
    "        p2, p98 = np.percentile(im, (2, 98))\n",
    "        im = exposure.rescale_intensity(im, in_range=(p2, p98))\n",
    "\n",
    "    plt.imshow(im, interpolation='nearest', aspect='auto', origin='lower')\n",
    "    show_plot()\n",
    "\n",
    "plt.figure()\n",
    "imshow_rescale(ffts.T)"
   ]
  },
  {
   "cell_type": "code",
   "execution_count": null,
   "metadata": {},
   "outputs": [],
   "source": []
  }
 ],
 "metadata": {
  "kernelspec": {
   "display_name": "Python 3",
   "language": "python",
   "name": "python3"
  },
  "language_info": {
   "codemirror_mode": {
    "name": "ipython",
    "version": 3
   },
   "file_extension": ".py",
   "mimetype": "text/x-python",
   "name": "python",
   "nbconvert_exporter": "python",
   "pygments_lexer": "ipython3",
   "version": "3.7.0"
  }
 },
 "nbformat": 4,
 "nbformat_minor": 1
}
